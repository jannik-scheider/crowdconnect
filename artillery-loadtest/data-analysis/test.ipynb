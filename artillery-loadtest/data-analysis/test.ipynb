{
 "cells": [
  {
   "cell_type": "code",
   "execution_count": 1,
   "metadata": {},
   "outputs": [],
   "source": [
    "import pandas as pd\n"
   ]
  },
  {
   "cell_type": "code",
   "execution_count": 2,
   "metadata": {},
   "outputs": [
    {
     "name": "stdout",
     "output_type": "stream",
     "text": [
      "              Timestamp  CPUUtilization\n",
      "5   2025-02-03 19:35:08        0.500000\n",
      "6   2025-02-03 19:35:09        0.000000\n",
      "7   2025-02-03 19:35:10        0.502513\n",
      "8   2025-02-03 19:35:11        0.505051\n",
      "9   2025-02-03 19:35:12        0.502513\n",
      "..                  ...             ...\n",
      "840 2025-02-03 19:49:03        0.502513\n",
      "841 2025-02-03 19:49:04        0.505051\n",
      "842 2025-02-03 19:49:05        1.000000\n",
      "843 2025-02-03 19:49:06        0.502513\n",
      "844 2025-02-03 19:49:07        0.502513\n",
      "\n",
      "[840 rows x 2 columns]\n"
     ]
    },
    {
     "name": "stderr",
     "output_type": "stream",
     "text": [
      "C:\\Users\\janni\\AppData\\Local\\Temp\\ipykernel_11116\\775354454.py:10: SettingWithCopyWarning: \n",
      "A value is trying to be set on a copy of a slice from a DataFrame.\n",
      "Try using .loc[row_indexer,col_indexer] = value instead\n",
      "\n",
      "See the caveats in the documentation: https://pandas.pydata.org/pandas-docs/stable/user_guide/indexing.html#returning-a-view-versus-a-copy\n",
      "  data[\"Timestamp\"] = pd.to_datetime(data[\"Timestamp\"])  # Datumsformat umwandeln\n",
      "C:\\Users\\janni\\AppData\\Local\\Temp\\ipykernel_11116\\775354454.py:11: SettingWithCopyWarning: \n",
      "A value is trying to be set on a copy of a slice from a DataFrame.\n",
      "Try using .loc[row_indexer,col_indexer] = value instead\n",
      "\n",
      "See the caveats in the documentation: https://pandas.pydata.org/pandas-docs/stable/user_guide/indexing.html#returning-a-view-versus-a-copy\n",
      "  data[\"CPUUtilization\"] = pd.to_numeric(data[\"CPUUtilization\"])  # Werte in Zahlen konvertieren\n"
     ]
    }
   ],
   "source": [
    "file_path = \"test.csv\"\n",
    "\n",
    "df = pd.read_csv(file_path, header=None) \n",
    "\n",
    "# Relevante Daten ab der Zeile 6 extrahieren\n",
    "data = df.iloc[5:, :].copy()  # .copy() erstellt eine Kopie des DataFrames\n",
    "data.columns = [\"Timestamp\", \"CPUUtilization\"]  # Spaltennamen manuell setzen\n",
    "\n",
    "# Spalten bereinigen\n",
    "data[\"Timestamp\"] = pd.to_datetime(data[\"Timestamp\"])  # Datumsformat umwandeln\n",
    "data[\"CPUUtilization\"] = pd.to_numeric(data[\"CPUUtilization\"])  # Werte in Zahlen konvertieren\n",
    "\n",
    "# Bereinigtes DataFrame anzeigen\n",
    "print(data)\n"
   ]
  },
  {
   "cell_type": "code",
   "execution_count": null,
   "metadata": {},
   "outputs": [],
   "source": []
  }
 ],
 "metadata": {
  "kernelspec": {
   "display_name": "sys-eng",
   "language": "python",
   "name": "python3"
  },
  "language_info": {
   "codemirror_mode": {
    "name": "ipython",
    "version": 3
   },
   "file_extension": ".py",
   "mimetype": "text/x-python",
   "name": "python",
   "nbconvert_exporter": "python",
   "pygments_lexer": "ipython3",
   "version": "3.10.16"
  }
 },
 "nbformat": 4,
 "nbformat_minor": 2
}
